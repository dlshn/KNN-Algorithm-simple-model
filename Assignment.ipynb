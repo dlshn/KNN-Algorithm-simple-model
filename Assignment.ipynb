{
 "cells": [
  {
   "cell_type": "code",
   "execution_count": 21,
   "id": "a852c547-6186-44a0-aa60-31b0606baea0",
   "metadata": {},
   "outputs": [],
   "source": [
    "import pandas as pd\n",
    "import numpy as np\n",
    "from sklearn.model_selection import train_test_split\n",
    "from sklearn.neighbors import KNeighborsClassifier\n",
    "from sklearn.metrics import accuracy_score\n",
    "from sklearn.preprocessing import StandardScaler\n",
    "from sklearn.decomposition import PCA\n",
    "from sklearn.model_selection import cross_val_score\n",
    "import matplotlib.pyplot as plt"
   ]
  },
  {
   "cell_type": "code",
   "execution_count": 22,
   "id": "862d3425-1ac6-40ca-a9c7-3c65b896d712",
   "metadata": {},
   "outputs": [],
   "source": [
    "df = pd.read_csv('wine.data')"
   ]
  },
  {
   "cell_type": "code",
   "execution_count": 23,
   "id": "4628f1b2-6458-465b-bbdd-1ec86f01a627",
   "metadata": {},
   "outputs": [],
   "source": [
    "col_names= ['Class','Alcohol','Malic Acid','Ash','Alcalinity of ash ','Magnesium','Total phenols','Flavanoids','Nonflavanoid phenols','Proanthocyanins','Color intensity','Hue','OD280/OD315 of diluted wines','Proline']\n",
    "df.columns= col_names\n",
    "df.to_csv('dataset.csv', index=False)"
   ]
  },
  {
   "cell_type": "code",
   "execution_count": 24,
   "id": "448edbaf-d633-4247-a8c0-ed922025ca1b",
   "metadata": {},
   "outputs": [
    {
     "name": "stdout",
     "output_type": "stream",
     "text": [
      "   Class  Alcohol  Malic Acid   Ash  Alcalinity of ash   Magnesium  \\\n",
      "0      1    13.20        1.78  2.14                11.2        100   \n",
      "1      1    13.16        2.36  2.67                18.6        101   \n",
      "2      1    14.37        1.95  2.50                16.8        113   \n",
      "3      1    13.24        2.59  2.87                21.0        118   \n",
      "4      1    14.20        1.76  2.45                15.2        112   \n",
      "\n",
      "   Total phenols  Flavanoids  Nonflavanoid phenols  Proanthocyanins  \\\n",
      "0           2.65        2.76                  0.26             1.28   \n",
      "1           2.80        3.24                  0.30             2.81   \n",
      "2           3.85        3.49                  0.24             2.18   \n",
      "3           2.80        2.69                  0.39             1.82   \n",
      "4           3.27        3.39                  0.34             1.97   \n",
      "\n",
      "   Color intensity   Hue  OD280/OD315 of diluted wines  Proline  \n",
      "0             4.38  1.05                          3.40     1050  \n",
      "1             5.68  1.03                          3.17     1185  \n",
      "2             7.80  0.86                          3.45     1480  \n",
      "3             4.32  1.04                          2.93      735  \n",
      "4             6.75  1.05                          2.85     1450  \n"
     ]
    }
   ],
   "source": [
    "print(df.head())"
   ]
  },
  {
   "cell_type": "code",
   "execution_count": 25,
   "id": "48f50ec8-2567-4bcb-900b-612a3f8427aa",
   "metadata": {},
   "outputs": [],
   "source": [
    "df = pd.read_csv('dataset.csv')"
   ]
  },
  {
   "cell_type": "code",
   "execution_count": 26,
   "id": "5d06ed0d-a208-4dd2-b748-111538a385d3",
   "metadata": {},
   "outputs": [
    {
     "name": "stdout",
     "output_type": "stream",
     "text": [
      "Class                           0\n",
      "Alcohol                         0\n",
      "Malic Acid                      0\n",
      "Ash                             0\n",
      "Alcalinity of ash               0\n",
      "Magnesium                       0\n",
      "Total phenols                   0\n",
      "Flavanoids                      0\n",
      "Nonflavanoid phenols            0\n",
      "Proanthocyanins                 0\n",
      "Color intensity                 0\n",
      "Hue                             0\n",
      "OD280/OD315 of diluted wines    0\n",
      "Proline                         0\n",
      "dtype: int64\n"
     ]
    }
   ],
   "source": [
    "null_counts = df.isnull().sum()\n",
    "print(null_counts)"
   ]
  },
  {
   "cell_type": "code",
   "execution_count": 27,
   "id": "6d28380f-e882-4a85-8bcc-2f95b8b968c5",
   "metadata": {},
   "outputs": [],
   "source": [
    "X = df.drop('Class', axis=1) \n",
    "y = df['Class']"
   ]
  },
  {
   "cell_type": "code",
   "execution_count": 28,
   "id": "2d5f327f-4758-48dc-9c88-da9b14bf3951",
   "metadata": {},
   "outputs": [],
   "source": [
    "Q1 = X.quantile(0.25) \n",
    "Q3 = X.quantile(0.75)  \n",
    "IQR = Q3 - Q1          \n",
    "\n",
    "lower_bound = Q1 - 1.5 * IQR\n",
    "upper_bound = Q3 + 1.5 * IQR\n",
    "\n",
    "X_no_outliers = X[~((X < lower_bound) | (X > upper_bound)).any(axis=1)]\n",
    "y_no_outliers = y.loc[X_no_outliers.index]\n"
   ]
  },
  {
   "cell_type": "code",
   "execution_count": 29,
   "id": "9e8b0004-3df7-42f4-baca-b2ae1385ca94",
   "metadata": {},
   "outputs": [
    {
     "name": "stdout",
     "output_type": "stream",
     "text": [
      "     Alcohol  Malic Acid   Ash  Alcalinity of ash   Magnesium  Total phenols  \\\n",
      "0      13.20        1.78  2.14                11.2        100           2.65   \n",
      "1      13.16        2.36  2.67                18.6        101           2.80   \n",
      "2      14.37        1.95  2.50                16.8        113           3.85   \n",
      "3      13.24        2.59  2.87                21.0        118           2.80   \n",
      "4      14.20        1.76  2.45                15.2        112           3.27   \n",
      "..       ...         ...   ...                 ...        ...            ...   \n",
      "171    14.16        2.51  2.48                20.0         91           1.68   \n",
      "173    13.40        3.91  2.48                23.0        102           1.80   \n",
      "174    13.27        4.28  2.26                20.0        120           1.59   \n",
      "175    13.17        2.59  2.37                20.0        120           1.65   \n",
      "176    14.13        4.10  2.74                24.5         96           2.05   \n",
      "\n",
      "     Flavanoids  Nonflavanoid phenols  Proanthocyanins  Color intensity   Hue  \\\n",
      "0          2.76                  0.26             1.28             4.38  1.05   \n",
      "1          3.24                  0.30             2.81             5.68  1.03   \n",
      "2          3.49                  0.24             2.18             7.80  0.86   \n",
      "3          2.69                  0.39             1.82             4.32  1.04   \n",
      "4          3.39                  0.34             1.97             6.75  1.05   \n",
      "..          ...                   ...              ...              ...   ...   \n",
      "171        0.70                  0.44             1.24             9.70  0.62   \n",
      "173        0.75                  0.43             1.41             7.30  0.70   \n",
      "174        0.69                  0.43             1.35            10.20  0.59   \n",
      "175        0.68                  0.53             1.46             9.30  0.60   \n",
      "176        0.76                  0.56             1.35             9.20  0.61   \n",
      "\n",
      "     OD280/OD315 of diluted wines  Proline  \n",
      "0                            3.40     1050  \n",
      "1                            3.17     1185  \n",
      "2                            3.45     1480  \n",
      "3                            2.93      735  \n",
      "4                            2.85     1450  \n",
      "..                            ...      ...  \n",
      "171                          1.71      660  \n",
      "173                          1.56      750  \n",
      "174                          1.56      835  \n",
      "175                          1.62      840  \n",
      "176                          1.60      560  \n",
      "\n",
      "[161 rows x 13 columns]\n"
     ]
    }
   ],
   "source": [
    "print(X_no_outliers)"
   ]
  },
  {
   "cell_type": "code",
   "execution_count": 30,
   "id": "ba594f1c-072a-40e0-a348-1524d915d25e",
   "metadata": {},
   "outputs": [
    {
     "name": "stdout",
     "output_type": "stream",
     "text": [
      "0      1\n",
      "1      1\n",
      "2      1\n",
      "3      1\n",
      "4      1\n",
      "      ..\n",
      "171    3\n",
      "173    3\n",
      "174    3\n",
      "175    3\n",
      "176    3\n",
      "Name: Class, Length: 161, dtype: int64\n"
     ]
    }
   ],
   "source": [
    "print(y_no_outliers)"
   ]
  },
  {
   "cell_type": "code",
   "execution_count": 31,
   "id": "8ebea759-3b07-4648-9d5b-90c80fa418f7",
   "metadata": {},
   "outputs": [
    {
     "name": "stdout",
     "output_type": "stream",
     "text": [
      "Number of rows: 161\n"
     ]
    }
   ],
   "source": [
    "num_rows = len(X_no_outliers)\n",
    "print(f\"Number of rows: {num_rows}\")"
   ]
  },
  {
   "cell_type": "code",
   "execution_count": 32,
   "id": "47446963-205f-4f8e-9a2d-f1dd9ba2bf95",
   "metadata": {},
   "outputs": [
    {
     "name": "stdout",
     "output_type": "stream",
     "text": [
      "Number of rows: 161\n"
     ]
    }
   ],
   "source": [
    "num_rows = len(y_no_outliers)\n",
    "print(f\"Number of rows: {num_rows}\")"
   ]
  },
  {
   "cell_type": "code",
   "execution_count": 33,
   "id": "82dfb27c-edeb-4c2a-b6f0-74fb3c66a83e",
   "metadata": {},
   "outputs": [],
   "source": [
    "X_train, X_test, y_train, y_test = train_test_split(X_no_outliers, y_no_outliers, test_size=0.25, random_state=42)"
   ]
  },
  {
   "cell_type": "code",
   "execution_count": 34,
   "id": "37f9ae21-d25e-4905-986f-087d4efa0448",
   "metadata": {},
   "outputs": [],
   "source": [
    "scaler = StandardScaler()\n",
    "X_train_scaled = scaler.fit_transform(X_train)"
   ]
  },
  {
   "cell_type": "code",
   "execution_count": 35,
   "id": "fcea79c6-7e57-47b0-8c08-36fc57f95cbe",
   "metadata": {},
   "outputs": [],
   "source": [
    "X_test_scaled = scaler.transform(X_test)"
   ]
  },
  {
   "cell_type": "code",
   "execution_count": 36,
   "id": "78bdcff1-4a5f-418c-aff6-63a5e323b9c4",
   "metadata": {},
   "outputs": [],
   "source": [
    "pca = PCA(n_components=0.95) \n",
    "X_train_pca = pca.fit_transform(X_train_scaled)\n",
    "X_test_pca = pca.transform(X_test_scaled)"
   ]
  },
  {
   "cell_type": "code",
   "execution_count": 37,
   "id": "3346f3e9-988b-469b-abdc-98b4f02f9c1f",
   "metadata": {},
   "outputs": [],
   "source": [
    "k_values = range(1, 21)"
   ]
  },
  {
   "cell_type": "code",
   "execution_count": 38,
   "id": "2c09bd1c-50a6-4248-8c1a-d5a8f7213143",
   "metadata": {},
   "outputs": [],
   "source": [
    "accuracy_scores = []"
   ]
  },
  {
   "cell_type": "code",
   "execution_count": 39,
   "id": "6c9d6d7d-ef95-4d4c-811c-613d9486f97b",
   "metadata": {},
   "outputs": [],
   "source": [
    "for k in k_values:\n",
    "    knn = KNeighborsClassifier(n_neighbors=k)\n",
    "    cv_scores = cross_val_score(knn, X_train_pca, y_train, cv=5, scoring='accuracy')\n",
    "    accuracy_scores.append(cv_scores.mean())"
   ]
  },
  {
   "cell_type": "code",
   "execution_count": 40,
   "id": "2a06d522-89db-4e9f-86e6-bcbd9399c863",
   "metadata": {},
   "outputs": [
    {
     "data": {
      "image/png": "[encoded data removed]",
      "text/plain": [
       "<Figure size 1000x600 with 1 Axes>"
      ]
     },
     "metadata": {},
     "output_type": "display_data"
    }
   ],
   "source": [
    "plt.figure(figsize=(10, 6))\n",
    "plt.plot(k_values, accuracy_scores, marker='o', linestyle='-', color='b')\n",
    "plt.title('Accuracy vs. Number of Neighbors (k)', fontsize=16)\n",
    "plt.xlabel('Number of Neighbors (k)', fontsize=12)\n",
    "plt.ylabel('Cross-Validated Accuracy', fontsize=12)\n",
    "plt.grid(True)\n",
    "plt.xticks(k_values)\n",
    "plt.show()"
   ]
  },
  {
   "cell_type": "code",
   "execution_count": 41,
   "id": "ac2c1136-bef8-48de-969e-2c330ceed81f",
   "metadata": {},
   "outputs": [
    {
     "name": "stdout",
     "output_type": "stream",
     "text": [
      "Best k value: 17\n",
      "Best cross-validated accuracy: 98.33%\n"
     ]
    }
   ],
   "source": [
    "best_k = k_values[np.argmax(accuracy_scores)]\n",
    "best_accuracy = max(accuracy_scores)\n",
    "\n",
    "print(f\"Best k value: {best_k}\")\n",
    "print(f\"Best cross-validated accuracy: {best_accuracy * 100:.2f}%\")"
   ]
  },
  {
   "cell_type": "code",
   "execution_count": null,
   "id": "f95ee0db-7296-4818-bee2-74b60f3f0a7b",
   "metadata": {},
   "outputs": [],
   "source": []
  }
 ],
 "metadata": {
  "kernelspec": {
   "display_name": "Python 3 (ipykernel)",
   "language": "python",
   "name": "python3"
  },
  "language_info": {
   "codemirror_mode": {
    "name": "ipython",
    "version": 3
   },
   "file_extension": ".py",
   "mimetype": "text/x-python",
   "name": "python",
   "nbconvert_exporter": "python",
   "pygments_lexer": "ipython3",
   "version": "3.12.2"
  }
 },
 "nbformat": 4,
 "nbformat_minor": 5
}
